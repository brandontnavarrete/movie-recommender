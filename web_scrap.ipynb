{
 "cells": [
  {
   "cell_type": "code",
   "execution_count": 12,
   "id": "a9f874e0-dc28-4142-8963-5ddd3dc9d304",
   "metadata": {},
   "outputs": [],
   "source": [
    "from bs4 import BeautifulSoup"
   ]
  },
  {
   "cell_type": "code",
   "execution_count": 10,
   "id": "9f1d057e-6aa2-44a2-8d45-c6b0f470b20d",
   "metadata": {},
   "outputs": [],
   "source": [
    "# reading in the html from manual.html and assign the code to page"
   ]
  },
  {
   "cell_type": "code",
   "execution_count": 11,
   "id": "658dd0c5-43c3-4309-8f16-15d8478d0321",
   "metadata": {},
   "outputs": [],
   "source": [
    "with open('manual.html',\"r\") as f:\n",
    "    page = f.read()"
   ]
  },
  {
   "cell_type": "markdown",
   "id": "9e3f136b-10d5-4c36-a766-44fef90457a5",
   "metadata": {},
   "source": [
    "# start parsing"
   ]
  },
  {
   "cell_type": "code",
   "execution_count": 13,
   "id": "8e142e64-f314-47de-8038-7c373568b500",
   "metadata": {},
   "outputs": [],
   "source": [
    "soup = BeautifulSoup(page, \"html.parser\")"
   ]
  },
  {
   "cell_type": "markdown",
   "id": "ec6ea689-3d81-4f05-9718-20af07ccdd31",
   "metadata": {},
   "source": [
    "# exctracting my variables : title, author, cover image"
   ]
  },
  {
   "cell_type": "code",
   "execution_count": null,
   "id": "5996f046-bab1-4dcd-82c9-38c47d7171b0",
   "metadata": {},
   "outputs": [],
   "source": []
  }
 ],
 "metadata": {
  "kernelspec": {
   "display_name": "Python 3 (ipykernel)",
   "language": "python",
   "name": "python3"
  },
  "language_info": {
   "codemirror_mode": {
    "name": "ipython",
    "version": 3
   },
   "file_extension": ".py",
   "mimetype": "text/x-python",
   "name": "python",
   "nbconvert_exporter": "python",
   "pygments_lexer": "ipython3",
   "version": "3.9.13"
  }
 },
 "nbformat": 4,
 "nbformat_minor": 5
}
